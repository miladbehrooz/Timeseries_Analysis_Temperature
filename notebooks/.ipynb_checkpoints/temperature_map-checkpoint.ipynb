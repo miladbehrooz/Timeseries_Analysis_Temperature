{
 "cells": [
  {
   "cell_type": "code",
   "execution_count": null,
   "id": "dbacc096-96bd-412e-a08b-d323bded1bf0",
   "metadata": {},
   "outputs": [],
   "source": [
    "# load libraries\n",
    "import os\n",
    "import json\n",
    "import pandas as pd\n",
    "import numpy as np\n",
    "import plotly.express as px\n",
    "from pycountry_convert import country_alpha2_to_country_name, country_name_to_country_alpha3\n",
    "\n",
    "import warnings\n",
    "warnings.filterwarnings('ignore')"
   ]
  },
  {
   "cell_type": "code",
   "execution_count": null,
   "id": "335bffc0-4a42-4edd-9152-3b238863d36b",
   "metadata": {},
   "outputs": [],
   "source": [
    "# define a function to clean daily temperature data \n",
    "def clean_data(df):\n",
    "    # rename the columns to get rid of unnecessary spaces in naming\n",
    "    df.columns = df.columns.str.replace(' ','')\n",
    "    # resclae the TG data\n",
    "    df['TG'] = df['TG'] * 0.1\n",
    "    # get rid of suspect and missing values \n",
    "    df = df[df['Q_TG'] == 0]\n",
    "    \n",
    "    return df"
   ]
  },
  {
   "cell_type": "code",
   "execution_count": null,
   "id": "43fbd996-4be6-4d25-8f42-5fa355f0606b",
   "metadata": {},
   "outputs": [],
   "source": [
    "# load stations data and clean columns name\n",
    "stations = pd.read_csv('../data/stations.txt',header=13,sep=',',index_col=0)\n",
    "stations.columns = stations.columns.str.replace(' ','')"
   ]
  },
  {
   "cell_type": "code",
   "execution_count": null,
   "id": "2b5033bb-c363-4fe0-b0d2-6afecc4f554a",
   "metadata": {},
   "outputs": [],
   "source": [
    "# get the daily temperature data file name\n",
    "# Due to the size of the files, those were not upladed on github. You can download them from https://knmi-ecad-assets-prd.s3.amazonaws.com/download/ECA_blend_tg.zip  \n",
    "files=os.listdir('../data/ECA_blend_tg/') "
   ]
  },
  {
   "cell_type": "code",
   "execution_count": null,
   "id": "fdc5497b-bd01-4e14-a470-bfb46d08db97",
   "metadata": {
    "tags": []
   },
   "outputs": [],
   "source": [
    "# extraxt the yearly temperature datas from all the stations and put them in a new dataframe (it takes some minutes)\n",
    "temp = pd.DataFrame(columns=['DATE','STAID', 'TEMP','STANAME', 'CN', 'LAT', 'LON', 'HGHT'])\n",
    "for file in files:\n",
    "    if file == '.DS_Store':\n",
    "        continue\n",
    "    temp_dum = pd.DataFrame(columns=['STAID', 'TEMP'])\n",
    "    df = pd.read_csv(f'../data/ECA_blend_tg/{file}',\n",
    "                         header=15,sep=',', index_col=2, parse_dates=True)\n",
    "    df = clean_data(df)\n",
    "       \n",
    "    temp_dum['TEMP'] = df.groupby(df.index.year).mean()['TG']\n",
    "    temp_dum['STAID'] = df.groupby(df.index.year).mean()['STAID']\n",
    "    temp_dum.reset_index(inplace=True)\n",
    "    temp_dum = pd.merge(temp_dum,stations,on='STAID')\n",
    "    temp_dum.columns = temp_dum.columns.str.replace(' ','')\n",
    "    temp = temp.append(temp_dum)\n",
    "temp.rename(columns = {'DATE':'YEAR'}, inplace = True)"
   ]
  },
  {
   "cell_type": "code",
   "execution_count": null,
   "id": "d0f86ceb-0c6f-4327-8462-8ccb7005e9ad",
   "metadata": {},
   "outputs": [],
   "source": [
    "temp.head(2)"
   ]
  },
  {
   "cell_type": "code",
   "execution_count": null,
   "id": "df8b4d7e-209c-4e9c-83a4-5547e6887199",
   "metadata": {},
   "outputs": [],
   "source": [
    "# save the yearly temperature datas into a csv file\n",
    "temp.to_csv('../data/temp.csv')"
   ]
  },
  {
   "cell_type": "code",
   "execution_count": null,
   "id": "c638f155-4ec3-4b70-ab05-736ab193df44",
   "metadata": {},
   "outputs": [],
   "source": [
    "temp = pd.read_csv('../data/temp.csv',index_col=0)\n",
    "temp.head(2)"
   ]
  },
  {
   "cell_type": "code",
   "execution_count": null,
   "id": "763861a8-ab47-4dee-882c-9d0691f38510",
   "metadata": {},
   "outputs": [],
   "source": [
    "# filter the data regarding the YEAR greater than 1950\n",
    "temp = temp[temp['YEAR'] > 1950]"
   ]
  },
  {
   "cell_type": "code",
   "execution_count": null,
   "id": "b689f1eb-6ccc-43af-87ff-01c912055d94",
   "metadata": {},
   "outputs": [],
   "source": [
    "# take average with respect to the countries and YEAR\n",
    "temp = temp.groupby(['YEAR','CN']).mean()[['TEMP']].reset_index()"
   ]
  },
  {
   "cell_type": "code",
   "execution_count": null,
   "id": "e76cf601-158d-4f22-b77f-afbb17276cac",
   "metadata": {},
   "outputs": [],
   "source": [
    "# map country alpha 2 code to alpha 3 and save them into CN3 column\n",
    "temp['CN3'] = temp.CN.apply(lambda x: country_name_to_country_alpha3(country_alpha2_to_country_name(x)))"
   ]
  },
  {
   "cell_type": "code",
   "execution_count": null,
   "id": "b1482bb8-3c8e-483f-a855-ff49a5be4ae6",
   "metadata": {},
   "outputs": [],
   "source": [
    "# create a choropleth map\n",
    "fig = px.choropleth(temp,               \n",
    "              locations=\"CN3\",               \n",
    "              color=\"TEMP\",\n",
    "              projection='orthographic',     \n",
    "              scope='world',\n",
    "              animation_frame=\"YEAR\",\n",
    "              animation_group='CN3',\n",
    "              color_continuous_scale='sunset',\n",
    "              title= 'mean temperature in european countries 1951-2022',\n",
    "              range_color=(-10, 20),\n",
    "              height=600             \n",
    ")"
   ]
  },
  {
   "cell_type": "code",
   "execution_count": null,
   "id": "5d0efb0a-7f66-4e55-b18a-cf21a7b1f405",
   "metadata": {},
   "outputs": [],
   "source": [
    "# save choropleth map in an html file\n",
    "fig.write_html(\"../figures/temp_europe_1951-2022.html\", include_plotlyjs='cdn')"
   ]
  },
  {
   "cell_type": "code",
   "execution_count": null,
   "id": "baeef503-b040-400f-baae-8170c3020ca7",
   "metadata": {},
   "outputs": [],
   "source": []
  }
 ],
 "metadata": {
  "kernelspec": {
   "display_name": "Python 3 (ipykernel)",
   "language": "python",
   "name": "python3"
  },
  "language_info": {
   "codemirror_mode": {
    "name": "ipython",
    "version": 3
   },
   "file_extension": ".py",
   "mimetype": "text/x-python",
   "name": "python",
   "nbconvert_exporter": "python",
   "pygments_lexer": "ipython3",
   "version": "3.9.7"
  }
 },
 "nbformat": 4,
 "nbformat_minor": 5
}
